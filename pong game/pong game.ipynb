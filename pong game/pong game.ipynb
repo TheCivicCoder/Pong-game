{
 "cells": [
  {
   "cell_type": "code",
   "execution_count": 1,
   "metadata": {},
   "outputs": [
    {
     "name": "stdout",
     "output_type": "stream",
     "text": [
      "pygame 1.9.6\n",
      "Hello from the pygame community. https://www.pygame.org/contribute.html\n"
     ]
    },
    {
     "data": {
      "text/plain": [
       "(6, 0)"
      ]
     },
     "execution_count": 1,
     "metadata": {},
     "output_type": "execute_result"
    }
   ],
   "source": [
    "import pygame\n",
    "pygame.init()"
   ]
  },
  {
   "cell_type": "code",
   "execution_count": 2,
   "metadata": {},
   "outputs": [],
   "source": [
    "#importing the paddle class and the ball class\n",
    "from paddle import Paddle\n",
    "from ball import Ball"
   ]
  },
  {
   "cell_type": "code",
   "execution_count": 3,
   "metadata": {},
   "outputs": [],
   "source": [
    "#define some colors\n",
    "BLACK=(0,0,0)\n",
    "WHITE=(255,255,255)"
   ]
  },
  {
   "cell_type": "code",
   "execution_count": 4,
   "metadata": {},
   "outputs": [],
   "source": [
    "#opening a new window\n",
    "size=(700,500 )\n",
    "screen= pygame.display.set_mode(size)\n",
    "pygame.display.set_caption(\"Pong\")"
   ]
  },
  {
   "cell_type": "code",
   "execution_count": 5,
   "metadata": {},
   "outputs": [],
   "source": [
    "paddleA= Paddle(WHITE, 10, 100)\n",
    "paddleA.rect.x= 20\n",
    "paddleA.rect.y= 200\n",
    " \n",
    "paddleB= Paddle(WHITE, 10, 100)\n",
    "paddleB.rect.x = 670\n",
    "paddleB.rect.y= 200\n",
    "\n",
    "ball= Ball(WHITE, 10 , 10)\n",
    "ball.rect.x= 345\n",
    "ball.rect.y=195"
   ]
  },
  {
   "cell_type": "code",
   "execution_count": 6,
   "metadata": {},
   "outputs": [],
   "source": [
    "#This will be a list that will contain all the sprites we intend to\n",
    "all_sprites_list = pygame.sprite.Group()\n",
    "\n",
    "#Add the paddle to the group of sprites\n",
    "all_sprites_list.add(paddleA)\n",
    "all_sprites_list.add(paddleB)\n",
    "all_sprites_list.add(ball)"
   ]
  },
  {
   "cell_type": "code",
   "execution_count": 7,
   "metadata": {},
   "outputs": [],
   "source": [
    "#always true condition unless stated otherwise to keep the game running\n",
    "carryOn= True\n",
    "\n",
    "#The clock will be used to control the frame rate of the game\n",
    "clock= pygame.time.Clock()\n",
    "\n",
    "#Initialise player scores\n",
    "scoreA= 0\n",
    "scoreB= 0\n",
    "\n",
    "#--------------Main program Loop-------------\n",
    "\n",
    "while carryOn:\n",
    "    #Main event\n",
    "    for event in pygame.event.get(): #User did something \n",
    "        if event.type== pygame.QUIT: #If user clicked close\n",
    "            carryOn= False           #flag that we are done\n",
    "        elif event.type== pygame.KEYDOWN:\n",
    "            if event.key==pygame.K_x:      #pressing the x key will quit the game\n",
    "                carryOn=False\n",
    "      \n",
    "    \n",
    "    #moving the paddles when the user uses the arrow keys (Player A) or \"W/S\" (player B)\n",
    "    keys= pygame.key.get_pressed()\n",
    "    if keys[pygame.K_w]:\n",
    "        paddleA.moveUp(5)\n",
    "    if keys[pygame.K_s]:\n",
    "        paddleA.moveDown(5)\n",
    "    if keys[pygame.K_UP]:\n",
    "        paddleB.moveUp(5)\n",
    "    if keys[pygame.K_DOWN]:\n",
    "        paddleB.moveDown(5)\n",
    "    \n",
    "    \n",
    "    #game logic\n",
    "    all_sprites_list.update()\n",
    "    \n",
    "    #check if the ball is bouncing against any of the 4 walls:\n",
    "    if ball.rect.x>=690:\n",
    "        scoreA+=1\n",
    "        ball.velocity[0]= -ball.velocity[0]\n",
    "    if ball.rect.x<=0:\n",
    "        scoreB+=1\n",
    "        ball.velocity[0]= -ball.velocity[0]\n",
    "    if ball.rect.y>490:\n",
    "        ball.velocity[1]= -ball.velocity[1]\n",
    "    if ball.rect.y<0:\n",
    "        ball.velocity[1]= -ball.velocity[1]\n",
    "    \n",
    "    \n",
    "    #Detect collisions between the ball and the paddles\n",
    "    if pygame.sprite.collide_mask(ball, paddleA) or pygame.sprite.collide_mask(ball, paddleB):\n",
    "        ball.bounce()\n",
    "    \n",
    "    #--------DRAWING CODE--------\n",
    "    \n",
    "    \n",
    "    #first, clear the screen to black\n",
    "    screen.fill(BLACK)\n",
    "    \n",
    "    #Draw the net between\n",
    "    pygame.draw.line(screen, WHITE, [349,0],[349,500],5)\n",
    "    \n",
    "    #Now let's draw all the sprites in one go.\n",
    "    all_sprites_list.draw(screen)\n",
    "    \n",
    "    #Display scores:\n",
    "    font= pygame.font.Font(None, 74)\n",
    "    text= font.render(str(scoreA), 1  , WHITE)\n",
    "    screen.blit(text, (250,10))\n",
    "    text= font.render(str(scoreB), 1, WHITE)\n",
    "    screen.blit(text, (420,10))\n",
    "    \n",
    "    #TO bring the change in the screen update the screen\n",
    "    pygame.display.flip()\n",
    "    \n",
    "    # limit frames to any limit you wish\n",
    "    clock.tick(60)\n",
    "    \n",
    "#once we have exited the main program loop we can stop the game engine\n",
    "pygame.quit()\n",
    "    "
   ]
  },
  {
   "cell_type": "code",
   "execution_count": null,
   "metadata": {},
   "outputs": [],
   "source": [
    "#for using the paddles we have to implement the concept of OOP's \n",
    "# we basically will create an Paddle class which will have \n",
    "# two objects(our paddles) and define its different \n",
    "# properties and function."
   ]
  },
  {
   "cell_type": "code",
   "execution_count": null,
   "metadata": {},
   "outputs": [],
   "source": [
    "#to start with the class we will first need to create constructor \n",
    "# method i.e. __init__() which basically initialises our objects \n",
    "# basic properties"
   ]
  },
  {
   "cell_type": "code",
   "execution_count": null,
   "metadata": {},
   "outputs": [],
   "source": []
  },
  {
   "cell_type": "code",
   "execution_count": null,
   "metadata": {},
   "outputs": [],
   "source": []
  },
  {
   "cell_type": "code",
   "execution_count": null,
   "metadata": {},
   "outputs": [],
   "source": []
  },
  {
   "cell_type": "code",
   "execution_count": null,
   "metadata": {},
   "outputs": [],
   "source": []
  },
  {
   "cell_type": "code",
   "execution_count": null,
   "metadata": {},
   "outputs": [],
   "source": []
  },
  {
   "cell_type": "code",
   "execution_count": null,
   "metadata": {},
   "outputs": [],
   "source": []
  }
 ],
 "metadata": {
  "kernelspec": {
   "display_name": "Python 3",
   "language": "python",
   "name": "python3"
  },
  "language_info": {
   "codemirror_mode": {
    "name": "ipython",
    "version": 3
   },
   "file_extension": ".py",
   "mimetype": "text/x-python",
   "name": "python",
   "nbconvert_exporter": "python",
   "pygments_lexer": "ipython3",
   "version": "3.7.0"
  }
 },
 "nbformat": 4,
 "nbformat_minor": 2
}
